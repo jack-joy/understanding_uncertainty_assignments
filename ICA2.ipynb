{
 "cells": [
  {
   "cell_type": "code",
   "execution_count": 2,
   "id": "8b1e4556",
   "metadata": {},
   "outputs": [],
   "source": [
    "# TASK 1: Majority Element\n",
    "# WRITE YOUR CODE IN THIS FUNCTION — the autograder imports this name.\n",
    "def majority_element(nums):\n",
    "    count = 0\n",
    "    candidate = None\n",
    "    for x in nums:\n",
    "        if count == 0:\n",
    "            candidate = x\n",
    "            count = 1\n",
    "        elif x == candidate:\n",
    "            count += 1\n",
    "        else:\n",
    "            count -= 1\n",
    "    return candidate\n"
   ]
  },
  {
   "cell_type": "code",
   "execution_count": 3,
   "id": "ffc6cdee",
   "metadata": {},
   "outputs": [],
   "source": [
    "# TASK 2: Word Pattern\n",
    "# WRITE YOUR CODE IN THIS FUNCTION — the autograder imports this name.\n",
    "def word_pattern(pattern, s):\n",
    "    words = s.split()\n",
    "    if len(pattern) != len(words):\n",
    "        return False\n",
    "    p2w={}\n",
    "    w2p={}\n",
    "    for p, w in zip(pattern, words):\n",
    "        if p in p2w and p2w[p] != w:\n",
    "            return False\n",
    "        if w in w2p[w] and w2p[w] != p:\n",
    "            return False\n",
    "        p2w[p] = w\n",
    "        w2p[w] = p\n",
    "    return True"
   ]
  },
  {
   "cell_type": "code",
   "execution_count": 4,
   "id": "bab635d1",
   "metadata": {},
   "outputs": [],
   "source": [
    "\n",
    "# TASK 3: Roman Numerals to Integer\n",
    "# WRITE YOUR CODE IN THIS FUNCTION — the autograder imports this name.\n",
    "def roman_to_int(s):\n",
    "    val = {\"I\":1, \"V\":5, \"X\":10, \"L\":50, \"C\":100, \"D\":500, \"M\":1000}\n",
    "    total = 0\n",
    "    i = 0\n",
    "    while i < len(s):\n",
    "        if i+1 < len(s) and val[s[i]] < val[s[i+1]]:\n",
    "            total += val[s[i+1]] - val[s[i]]\n",
    "            i += 2\n",
    "        else:\n",
    "            total += val[s[i]]\n",
    "            i += 1\n",
    "    return total\n",
    "\n"
   ]
  }
 ],
 "metadata": {
  "kernelspec": {
   "display_name": "ds6001",
   "language": "python",
   "name": "python3"
  },
  "language_info": {
   "codemirror_mode": {
    "name": "ipython",
    "version": 3
   },
   "file_extension": ".py",
   "mimetype": "text/x-python",
   "name": "python",
   "nbconvert_exporter": "python",
   "pygments_lexer": "ipython3",
   "version": "3.13.5"
  }
 },
 "nbformat": 4,
 "nbformat_minor": 5
}
